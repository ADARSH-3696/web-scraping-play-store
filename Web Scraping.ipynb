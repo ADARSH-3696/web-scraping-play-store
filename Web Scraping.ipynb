{
 "cells": [
  {
   "cell_type": "code",
   "execution_count": 8,
   "metadata": {},
   "outputs": [],
   "source": [
    "import pandas as pd"
   ]
  },
  {
   "cell_type": "code",
   "execution_count": 1,
   "metadata": {},
   "outputs": [
    {
     "name": "stdout",
     "output_type": "stream",
     "text": [
      "Collecting google_play_scraper\n",
      "  Downloading google-play-scraper-1.0.0.tar.gz (52 kB)\n",
      "Building wheels for collected packages: google-play-scraper\n",
      "  Building wheel for google-play-scraper (setup.py): started\n",
      "  Building wheel for google-play-scraper (setup.py): finished with status 'done'\n",
      "  Created wheel for google-play-scraper: filename=google_play_scraper-1.0.0-py3-none-any.whl size=24076 sha256=060a743e2927d6912e4e2c2f5dc576c35252a24c3803aceb06129bec1cd1da84\n",
      "  Stored in directory: c:\\users\\hp\\appdata\\local\\pip\\cache\\wheels\\9c\\28\\49\\2e31b76154b2635b39f85b58ea200000a7ea83c4ba245b5bff\n",
      "Successfully built google-play-scraper\n",
      "Installing collected packages: google-play-scraper\n",
      "Successfully installed google-play-scraper-1.0.0\n"
     ]
    }
   ],
   "source": [
    "! pip install google_play_scraper"
   ]
  },
  {
   "cell_type": "code",
   "execution_count": 9,
   "metadata": {},
   "outputs": [],
   "source": [
    "from google_play_scraper import app\n",
    "from google_play_scraper import Sort, reviews_all"
   ]
  },
  {
   "cell_type": "code",
   "execution_count": 10,
   "metadata": {},
   "outputs": [
    {
     "data": {
      "text/plain": [
       "{'title': 'CashKaro - Highest Cashback & Best Coupons',\n",
       " 'description': '<b>Why Download the CashKaro Deals App? </b>\\r\\n\\r\\n★ <b>Highest Cashback Guarantee:</b> Get 100% Cashback Deals\\r\\n\\r\\n★ <b>Real Cashback:</b> Transfer money to your Bank Account or as Gift Cards\\r\\n\\r\\n★ <b>Up to 75% off Coupon Codes:</b> Over 50,000 Coupons listed\\r\\n\\r\\n★ <b>Price Comparison:</b> Find the lowest price across sites for Mobiles, Laptops, Grocery, Diapers & more\\r\\n\\r\\n★ <b>Best Deal Guarantee:</b> If you find a better deal, we will beat it!\\r\\n\\r\\n★ <b>All Online Shopping Sites: </b> Over 1500 partners where you can get cashback\\r\\n\\r\\n★ <b>Best Referral: </b> Invite friends & earn 10% of the Cashback they earn forever\\r\\n\\r\\n★ <b>Fastest Tracking: </b> Tracking as fast as 60 seconds after you shop\\r\\n\\r\\n<b>CashKaro is India’s Largest Cashback & Coupons Site. </b> By using CashKaro you get Exclusive Cashback and Best Coupon Codes across all the online shopping sites in India.\\r\\n\\r\\nYou can easily save over Rs 50,000 each year, and this is 100% free. \\r\\n\\r\\n<b>How CashKaro Works</b>\\r\\n\\r\\nTo earn Extra Cashback, just follow these simple steps:\\r\\n\\r\\n<b>Step 1 – Login:</b> Login or Join CashKaro Free\\r\\n\\r\\n<b>Step 2 - Click Out:</b> From CashKaro App, click on the online shopping site you want to shop at\\r\\n\\r\\n<b>Step 3 – Shop:</b> We redirect you to the shopping site. Now shop as you always do\\r\\n\\r\\n<b>Step 4- Earn Cashback</b> The online site pays CashKaro a fee for your order. We pass this to you as Cashback\\r\\n\\r\\n<b>Step 5 – Get Paid</b> This cashback is <b>Real Money</b> that you can transfer to your Bank Account\\r\\n\\r\\n<b>Some key highlights about CashKaro</b>\\r\\nCashKaro has paid over <b>Rs 150 crore in cashback</b>\\r\\n\\r\\nAverage shopper <b>saves around Rs 50,000</b> each year using CashKaro\\r\\n\\r\\nCashKaro cashback is <b>Real Money</b>\\r\\n\\r\\nCashKaro works with almost every online shopping site you normally use\\r\\nWe also have exclusive <b>Coupon Codes</b> that give you instant savings of up to 70%\\r\\n\\r\\nBy using our price comparison, you get the <b>best deal</b> in seconds\\r\\n\\r\\n<b>Best Deal Guarantee:</b> If you find a better cashback anywhere, we shall match it',\n",
       " 'descriptionHTML': '<b>Why Download the CashKaro Deals App? </b><br><br>★ <b>Highest Cashback Guarantee:</b> Get 100% Cashback Deals<br><br>★ <b>Real Cashback:</b> Transfer money to your Bank Account or as Gift Cards<br><br>★ <b>Up to 75% off Coupon Codes:</b> Over 50,000 Coupons listed<br><br>★ <b>Price Comparison:</b> Find the lowest price across sites for Mobiles, Laptops, Grocery, Diapers &amp; more<br><br>★ <b>Best Deal Guarantee:</b> If you find a better deal, we will beat it!<br><br>★ <b>All Online Shopping Sites: </b> Over 1500 partners where you can get cashback<br><br>★ <b>Best Referral: </b> Invite friends &amp; earn 10% of the Cashback they earn forever<br><br>★ <b>Fastest Tracking: </b> Tracking as fast as 60 seconds after you shop<br><br><b>CashKaro is India’s Largest Cashback &amp; Coupons Site. </b> By using CashKaro you get Exclusive Cashback and Best Coupon Codes across all the online shopping sites in India.<br><br>You can easily save over Rs 50,000 each year, and this is 100% free. <br><br><b>How CashKaro Works</b><br><br>To earn Extra Cashback, just follow these simple steps:<br><br><b>Step 1 – Login:</b> Login or Join CashKaro Free<br><br><b>Step 2 - Click Out:</b> From CashKaro App, click on the online shopping site you want to shop at<br><br><b>Step 3 – Shop:</b> We redirect you to the shopping site. Now shop as you always do<br><br><b>Step 4- Earn Cashback</b> The online site pays CashKaro a fee for your order. We pass this to you as Cashback<br><br><b>Step 5 – Get Paid</b> This cashback is <b>Real Money</b> that you can transfer to your Bank Account<br><br><b>Some key highlights about CashKaro</b><br>CashKaro has paid over <b>Rs 150 crore in cashback</b><br><br>Average shopper <b>saves around Rs 50,000</b> each year using CashKaro<br><br>CashKaro cashback is <b>Real Money</b><br><br>CashKaro works with almost every online shopping site you normally use<br>We also have exclusive <b>Coupon Codes</b> that give you instant savings of up to 70%<br><br>By using our price comparison, you get the <b>best deal</b> in seconds<br><br><b>Best Deal Guarantee:</b> If you find a better cashback anywhere, we shall match it',\n",
       " 'summary': '✔️Get Real Cashback ✔️1500+ online sites ✔️Transfer Cashback to Bank Account',\n",
       " 'summaryHTML': '✔️Get Real Cashback ✔️1500+ online sites ✔️Transfer Cashback to Bank Account',\n",
       " 'installs': '10,000,000+',\n",
       " 'minInstalls': 10000000,\n",
       " 'score': 3.5006752,\n",
       " 'ratings': 50783,\n",
       " 'reviews': 29411,\n",
       " 'histogram': [15834, 1665, 2047, 3713, 27524],\n",
       " 'price': 0,\n",
       " 'free': True,\n",
       " 'currency': 'AUD',\n",
       " 'sale': False,\n",
       " 'saleTime': None,\n",
       " 'originalPrice': None,\n",
       " 'saleText': None,\n",
       " 'offersIAP': False,\n",
       " 'inAppProductPrice': None,\n",
       " 'size': '33M',\n",
       " 'androidVersion': '5.0',\n",
       " 'androidVersionText': '5.0 and up',\n",
       " 'developer': 'CashKaro',\n",
       " 'developerId': 'CashKaro',\n",
       " 'developerEmail': 'contact@cashkaro.com',\n",
       " 'developerWebsite': 'https://cashkaro.com/',\n",
       " 'developerAddress': None,\n",
       " 'privacyPolicy': 'https://cashkaro.com/privacy-policy',\n",
       " 'developerInternalID': '8799520240620085788',\n",
       " 'genre': 'Shopping',\n",
       " 'genreId': 'SHOPPING',\n",
       " 'icon': 'https://play-lh.googleusercontent.com/GcZhHZB4JL4Hu-CLjpA5jnp4pOBTtgFlk5vOKJo2zE5-wqDECZ8xLLdVZJEeizGpZg',\n",
       " 'headerImage': 'https://play-lh.googleusercontent.com/wno6lmeK6qb_SjxfHTrMZVg0LeluEiS1CDwe8jCJdN39-NwSueKI_3FmZ6guBWfIlth7',\n",
       " 'screenshots': ['https://play-lh.googleusercontent.com/DkOgPx7SKf7lRAGJr0IHRvfI1RLviUkIHsax3w0AKxWpbM0qJeawvHaI3x4BesydbEM',\n",
       "  'https://play-lh.googleusercontent.com/SAXYKlzIOyOqogNhMPczE49I2qyPpXB5UMvwnK6N8HRghl8Z7f5bWH5wB0FDyE4ZZyB_',\n",
       "  'https://play-lh.googleusercontent.com/mZ6IBz0hWANOdEJVIGfyT_KMTQbMp4JHGzuw2_8syo-K7Z50zaG5QCkOZ1cEB--i5Q',\n",
       "  'https://play-lh.googleusercontent.com/jZH8nT7IOzKAquWa4ZszL0n_QJkfUruxHzDgKqRhC3yX4arqlDsFzp8Q09ivu-St7Wo',\n",
       "  'https://play-lh.googleusercontent.com/ywKSin4tCm3mjU_8m8InOoszQLjLdokQOZoEK4CC-m5MhUm25clq3R7-bEPW9sh85L8',\n",
       "  'https://play-lh.googleusercontent.com/-guEs2u390MaUNIVAJzTonqRdOBs8qbcKo-13b_EhkWwXf1HfYE4xwQ9rPH0_gfvkF4',\n",
       "  'https://play-lh.googleusercontent.com/OO1Itqy_PC9aPtkJlEU2uo7qIST9heQRL4Dbyrtp6IQvWxcaMHo9URDk48wotbipVg',\n",
       "  'https://play-lh.googleusercontent.com/n6600Jujnf8oSsutm7eim78r5w9vwtGXMA6t2ohT6-Lfy7ts901MwJiLOWMPxjvFy60',\n",
       "  'https://play-lh.googleusercontent.com/ILirCu_oymebWFMMdXFhkbFcpzSNxcBsr0ui-uljflH1bl8AROoCX9zqP_mU6uegDOah',\n",
       "  'https://play-lh.googleusercontent.com/LwH68DLlj_Qp5_dhIYFZz0eCZqzSrWu3b5P9X1xNAs8JK8rIJaDRgcQGJOo3lgrDWfs',\n",
       "  'https://play-lh.googleusercontent.com/uqwRg-Wh-QV_n5DM1_3z3_aYmq6FjUibLQg2ktPa3pPJrdXEXbGYX6lzabCzIGCfGg',\n",
       "  'https://play-lh.googleusercontent.com/Q5YOULqC8TYJTGdTHFwpgUZReR_cnmAeNmiaZcuiGGlXr0AaU5ViJQaVMO4LhL4SPdE',\n",
       "  'https://play-lh.googleusercontent.com/i9EFFEvZwHJcOW2FDVJvg9Cn5svd_oI7Twju5qj2d3O2Dyob_g20uyB-fp2ygHkEGQc',\n",
       "  'https://play-lh.googleusercontent.com/Z5UiRIM5g4hWhehVB2x7aOwB82n6fqZTJqTG9oundT7LKrs6shqROIRjZt9p1Q7gNZg',\n",
       "  'https://play-lh.googleusercontent.com/E6CsrjPC1P0GVcqEFbIAe3FfbgTtBtzmVDrTzTnPS0wniLqDnP_zV8Nfb1s6YZ2qCCU'],\n",
       " 'video': 'https://www.youtube.com/embed/Cfj_QGCCWpQ?ps=play&vq=large&rel=0&autohide=1&showinfo=0',\n",
       " 'videoImage': 'https://i.ytimg.com/vi/Cfj_QGCCWpQ/hqdefault.jpg',\n",
       " 'contentRating': 'Rated for 3+',\n",
       " 'contentRatingDescription': None,\n",
       " 'adSupported': None,\n",
       " 'containsAds': False,\n",
       " 'released': None,\n",
       " 'updated': 1618978557,\n",
       " 'version': '3.2',\n",
       " 'recentChanges': 'Bug fixes &  Improvements.',\n",
       " 'recentChangesHTML': 'Bug fixes &amp;  Improvements.',\n",
       " 'comments': [],\n",
       " 'editorsChoice': False,\n",
       " 'appId': 'com.cashkaro',\n",
       " 'url': 'https://play.google.com/store/apps/details?id=com.cashkaro&hl=en&gl=au'}"
      ]
     },
     "execution_count": 10,
     "metadata": {},
     "output_type": "execute_result"
    }
   ],
   "source": [
    "result_app = app('com.cashkaro', lang='en', country='au')\n",
    "result_app"
   ]
  },
  {
   "cell_type": "code",
   "execution_count": 11,
   "metadata": {},
   "outputs": [],
   "source": [
    "result_reviews = reviews_all(\n",
    "    'com.cashkaro',\n",
    "    sleep_milliseconds=0, # defaults to 0\n",
    "    lang='en', # defaults to 'en'\n",
    "    country='us', # defaults to 'us'\n",
    "    sort=Sort.MOST_RELEVANT, # defaults to Sort.MOST_RELEVANT\n",
    "    filter_score_with=5 # defaults to None(means all score)\n",
    ")"
   ]
  },
  {
   "cell_type": "code",
   "execution_count": 12,
   "metadata": {},
   "outputs": [
    {
     "name": "stderr",
     "output_type": "stream",
     "text": [
      "IOPub data rate exceeded.\n",
      "The notebook server will temporarily stop sending output\n",
      "to the client in order to avoid crashing it.\n",
      "To change this limit, set the config variable\n",
      "`--NotebookApp.iopub_data_rate_limit`.\n",
      "\n",
      "Current values:\n",
      "NotebookApp.iopub_data_rate_limit=1000000.0 (bytes/sec)\n",
      "NotebookApp.rate_limit_window=3.0 (secs)\n",
      "\n"
     ]
    }
   ],
   "source": [
    "print(result_reviews)"
   ]
  },
  {
   "cell_type": "code",
   "execution_count": null,
   "metadata": {},
   "outputs": [],
   "source": [
    "df_playstore = pd.DataFrame(result_reviews)\n",
    "df_playstore.to_excel('result.xlsx', index = False)"
   ]
  },
  {
   "cell_type": "code",
   "execution_count": 97,
   "metadata": {},
   "outputs": [
    {
     "data": {
      "text/plain": [
       "<bound method DataFrame.info of                                                reviewId  \\\n",
       "0     gp:AOqpTOFO4E5hfQBkVzV0BBZullrFobHMk4n-BZyJ5bW...   \n",
       "1     gp:AOqpTOGmrj9f4syDq7KpZuV100hIH5A5gct4Mcq70sC...   \n",
       "2     gp:AOqpTOGcUSu4SoL_iYpA2t4sxh1ykDK-pbirfgCoJ3D...   \n",
       "3     gp:AOqpTOGjGue7-93YNLDw01fRhBx9ZH38n4HoG6iKDJf...   \n",
       "4     gp:AOqpTOHJ7VCues4ZNaCJIZTROzhVIt8imR54kgTLKea...   \n",
       "...                                                 ...   \n",
       "6002  gp:AOqpTOHn-Qqfu1nMitjhr92G_HAIOrJU2bQ_sPcxjrd...   \n",
       "6003  gp:AOqpTOEtk-RtzglYwGEePIPH7HvH8u2Ie5bKHtjKqwg...   \n",
       "6004  gp:AOqpTOHFoh7S1jCyRIMaObMhJipHIbqakhttysajcO2...   \n",
       "6005  gp:AOqpTOHEdAzKPizQpvVbaQOErFJX675oSD2EXEHH6Y3...   \n",
       "6006  gp:AOqpTOG4XgufWKf6qKHQvXIb7nqgRFO-QhS87Hl0FpJ...   \n",
       "\n",
       "                   userName  \\\n",
       "0                Abdul Aziz   \n",
       "1               Somya gupta   \n",
       "2               Avik Sarkar   \n",
       "3              sumit jindal   \n",
       "4              Vaibhav Soni   \n",
       "...                     ...   \n",
       "6002                  Vinay   \n",
       "6003          Ashish Kamble   \n",
       "6004         Poorna Sandeep   \n",
       "6005  PAWAN SONDHIYA MAIHAR   \n",
       "6006       mohammed jeelani   \n",
       "\n",
       "                                              userImage  \\\n",
       "0     https://play-lh.googleusercontent.com/a/AATXAJ...   \n",
       "1     https://play-lh.googleusercontent.com/a/AATXAJ...   \n",
       "2     https://play-lh.googleusercontent.com/a-/AOh14...   \n",
       "3     https://play-lh.googleusercontent.com/a-/AOh14...   \n",
       "4     https://play-lh.googleusercontent.com/a-/AOh14...   \n",
       "...                                                 ...   \n",
       "6002  https://play-lh.googleusercontent.com/a-/AOh14...   \n",
       "6003  https://play-lh.googleusercontent.com/a-/AOh14...   \n",
       "6004  https://play-lh.googleusercontent.com/a-/AOh14...   \n",
       "6005  https://play-lh.googleusercontent.com/a-/AOh14...   \n",
       "6006  https://play-lh.googleusercontent.com/a-/AOh14...   \n",
       "\n",
       "                                                content  score  thumbsUpCount  \\\n",
       "0     My experience with CashKaro has been nothing s...      5              6   \n",
       "1     Get rewarded with cashback on shopping online....      5            155   \n",
       "2     It's a great app for getting some extra cashba...      5            347   \n",
       "3     I have recently started to use cashkaro . It's...      5           1617   \n",
       "4     Using this platform from about year ago.Done h...      5             14   \n",
       "...                                                 ...    ...            ...   \n",
       "6002                                                 Vv      5              0   \n",
       "6003                                   Nice application      5              0   \n",
       "6004                                                BAD      5              0   \n",
       "6005                                               Best      5              0   \n",
       "6006                                          Excellent      5              0   \n",
       "\n",
       "     reviewCreatedVersion                  at replyContent repliedAt  \n",
       "0                     3.2 2021-07-10 12:48:56         None       NaT  \n",
       "1                     3.2 2021-06-14 13:27:20         None       NaT  \n",
       "2                     3.2 2021-04-26 00:12:10         None       NaT  \n",
       "3                     3.2 2021-04-27 11:45:51         None       NaT  \n",
       "4                     3.2 2021-06-17 11:47:04         None       NaT  \n",
       "...                   ...                 ...          ...       ...  \n",
       "6002                 None 2021-01-16 10:58:11         None       NaT  \n",
       "6003                 None 2021-06-18 14:20:31         None       NaT  \n",
       "6004                 None 2020-11-04 18:42:22         None       NaT  \n",
       "6005                 None 2021-06-25 03:55:36         None       NaT  \n",
       "6006                 None 2020-07-02 12:58:46         None       NaT  \n",
       "\n",
       "[6007 rows x 10 columns]>"
      ]
     },
     "execution_count": 97,
     "metadata": {},
     "output_type": "execute_result"
    }
   ],
   "source": [
    "df_playstore.info"
   ]
  },
  {
   "cell_type": "code",
   "execution_count": null,
   "metadata": {},
   "outputs": [],
   "source": []
  }
 ],
 "metadata": {
  "kernelspec": {
   "display_name": "Python 3",
   "language": "python",
   "name": "python3"
  },
  "language_info": {
   "codemirror_mode": {
    "name": "ipython",
    "version": 3
   },
   "file_extension": ".py",
   "mimetype": "text/x-python",
   "name": "python",
   "nbconvert_exporter": "python",
   "pygments_lexer": "ipython3",
   "version": "3.8.3"
  }
 },
 "nbformat": 4,
 "nbformat_minor": 4
}
